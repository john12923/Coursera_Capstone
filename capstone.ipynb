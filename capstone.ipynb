{
 "cells": [
  {
   "cell_type": "markdown",
   "metadata": {},
   "source": [
    "# This notebook will be mainly used for capstone project"
   ]
  },
  {
   "cell_type": "code",
   "execution_count": 16,
   "metadata": {},
   "outputs": [],
   "source": [
    "#Import necessary library\n",
    "import pandas as pd\n",
    "import numpy as np\n",
    "import matplotlib.pyplot as plt\n",
    "import seaborn as sns"
   ]
  },
  {
   "cell_type": "code",
   "execution_count": 2,
   "metadata": {},
   "outputs": [
    {
     "name": "stdout",
     "output_type": "stream",
     "text": [
      "Hello Capstone Project Course\n"
     ]
    }
   ],
   "source": [
    "print('Hello Capstone Project Course')"
   ]
  },
  {
   "cell_type": "markdown",
   "metadata": {},
   "source": [
    "# 1. Introduction"
   ]
  },
  {
   "cell_type": "markdown",
   "metadata": {},
   "source": [
    "Traffic accidents are a significant source of deaths, injuries, property damage, and a major concern for public health and traffic safety. Accidents are also a major cause of traffic congestion and delay. Effective management of accident is crucial to mitigating accident impacts and improving traffic safety and transportation system efficiency. Accurate predictions of severity can provide crucial information for emergency responders to evaluate the severity level of accidents, estimate the potential impacts, and implement efficient accident management procedures. By recognizing the key factors that influence accident severity, the solution may be of great utility to various Government Departments/Authorities like DOT and Police. The results of analysis and modeling can be used by these Departments to take appropriate measures; such as early warning system to drivers; to reduce accident impact and thereby improve traffic safety. It is also useful to the Insurers in terms of reduced claims and better underwriting as well as rate making."
   ]
  },
  {
   "cell_type": "markdown",
   "metadata": {},
   "source": [
    "# 2. Data Understanding"
   ]
  },
  {
   "cell_type": "markdown",
   "metadata": {},
   "source": [
    "The dataset come from City of Seattle Open Data Portal that contains all types of collisions from 2004 to Present. This raw dataset consists of 221,266 cases and 40 attributes. The attributes is described  in this link https://www.seattle.gov/Documents/Departments/SDOT/GIS/Collisions_OD.pdf"
   ]
  },
  {
   "cell_type": "markdown",
   "metadata": {},
   "source": [
    "### Acquiring the data"
   ]
  },
  {
   "cell_type": "code",
   "execution_count": 1,
   "metadata": {},
   "outputs": [
    {
     "name": "stdout",
     "output_type": "stream",
     "text": [
      "--2020-09-09 15:30:02--  https://opendata.arcgis.com/datasets/5b5c745e0f1f48e7a53acec63a0022ab_0.csv\n",
      "Resolving opendata.arcgis.com (opendata.arcgis.com)... 34.202.76.40, 34.235.215.225, 54.152.131.176\n",
      "Connecting to opendata.arcgis.com (opendata.arcgis.com)|34.202.76.40|:443... connected.\n",
      "HTTP request sent, awaiting response... 200 OK\n",
      "Length: unspecified [text/csv]\n",
      "Saving to: ‘collisions.csv’\n",
      "\n",
      "collisions.csv          [             <=>    ]  80.92M  17.2MB/s    in 4.6s    \n",
      "\n",
      "2020-09-09 15:30:07 (17.6 MB/s) - ‘collisions.csv’ saved [84855377]\n",
      "\n"
     ]
    }
   ],
   "source": [
    "!wget -O collisions.csv https://opendata.arcgis.com/datasets/5b5c745e0f1f48e7a53acec63a0022ab_0.csv"
   ]
  },
  {
   "cell_type": "markdown",
   "metadata": {},
   "source": [
    "***"
   ]
  },
  {
   "cell_type": "markdown",
   "metadata": {},
   "source": [
    "### Load collisions data into dataframe"
   ]
  },
  {
   "cell_type": "code",
   "execution_count": 14,
   "metadata": {},
   "outputs": [
    {
     "data": {
      "text/html": [
       "<div>\n",
       "<style scoped>\n",
       "    .dataframe tbody tr th:only-of-type {\n",
       "        vertical-align: middle;\n",
       "    }\n",
       "\n",
       "    .dataframe tbody tr th {\n",
       "        vertical-align: top;\n",
       "    }\n",
       "\n",
       "    .dataframe thead th {\n",
       "        text-align: right;\n",
       "    }\n",
       "</style>\n",
       "<table border=\"1\" class=\"dataframe\">\n",
       "  <thead>\n",
       "    <tr style=\"text-align: right;\">\n",
       "      <th></th>\n",
       "      <th>X</th>\n",
       "      <th>Y</th>\n",
       "      <th>OBJECTID</th>\n",
       "      <th>INCKEY</th>\n",
       "      <th>COLDETKEY</th>\n",
       "      <th>REPORTNO</th>\n",
       "      <th>STATUS</th>\n",
       "      <th>ADDRTYPE</th>\n",
       "      <th>INTKEY</th>\n",
       "      <th>LOCATION</th>\n",
       "      <th>...</th>\n",
       "      <th>ROADCOND</th>\n",
       "      <th>LIGHTCOND</th>\n",
       "      <th>PEDROWNOTGRNT</th>\n",
       "      <th>SDOTCOLNUM</th>\n",
       "      <th>SPEEDING</th>\n",
       "      <th>ST_COLCODE</th>\n",
       "      <th>ST_COLDESC</th>\n",
       "      <th>SEGLANEKEY</th>\n",
       "      <th>CROSSWALKKEY</th>\n",
       "      <th>HITPARKEDCAR</th>\n",
       "    </tr>\n",
       "  </thead>\n",
       "  <tbody>\n",
       "    <tr>\n",
       "      <th>0</th>\n",
       "      <td>-122.386772</td>\n",
       "      <td>47.564720</td>\n",
       "      <td>1</td>\n",
       "      <td>326234</td>\n",
       "      <td>327734</td>\n",
       "      <td>E984735</td>\n",
       "      <td>Matched</td>\n",
       "      <td>Intersection</td>\n",
       "      <td>31893.0</td>\n",
       "      <td>CALIFORNIA AVE SW AND SW GENESEE ST</td>\n",
       "      <td>...</td>\n",
       "      <td>Dry</td>\n",
       "      <td>Daylight</td>\n",
       "      <td>Y</td>\n",
       "      <td>NaN</td>\n",
       "      <td>NaN</td>\n",
       "      <td>2</td>\n",
       "      <td>Vehicle turning left hits pedestrian</td>\n",
       "      <td>0</td>\n",
       "      <td>0</td>\n",
       "      <td>N</td>\n",
       "    </tr>\n",
       "    <tr>\n",
       "      <th>1</th>\n",
       "      <td>-122.341806</td>\n",
       "      <td>47.686934</td>\n",
       "      <td>2</td>\n",
       "      <td>326246</td>\n",
       "      <td>327746</td>\n",
       "      <td>E985430</td>\n",
       "      <td>Matched</td>\n",
       "      <td>Intersection</td>\n",
       "      <td>24228.0</td>\n",
       "      <td>STONE AVE N AND N 80TH ST</td>\n",
       "      <td>...</td>\n",
       "      <td>Wet</td>\n",
       "      <td>Dark - Street Lights On</td>\n",
       "      <td>NaN</td>\n",
       "      <td>NaN</td>\n",
       "      <td>NaN</td>\n",
       "      <td>10</td>\n",
       "      <td>Entering at angle</td>\n",
       "      <td>0</td>\n",
       "      <td>0</td>\n",
       "      <td>N</td>\n",
       "    </tr>\n",
       "    <tr>\n",
       "      <th>2</th>\n",
       "      <td>-122.374899</td>\n",
       "      <td>47.668666</td>\n",
       "      <td>3</td>\n",
       "      <td>329254</td>\n",
       "      <td>330754</td>\n",
       "      <td>EA16720</td>\n",
       "      <td>Matched</td>\n",
       "      <td>Block</td>\n",
       "      <td>NaN</td>\n",
       "      <td>NW MARKET ST BETWEEN 14TH AVE NW AND 15TH AVE NW</td>\n",
       "      <td>...</td>\n",
       "      <td>Dry</td>\n",
       "      <td>Daylight</td>\n",
       "      <td>NaN</td>\n",
       "      <td>NaN</td>\n",
       "      <td>NaN</td>\n",
       "      <td>11</td>\n",
       "      <td>From same direction - both going straight - bo...</td>\n",
       "      <td>0</td>\n",
       "      <td>0</td>\n",
       "      <td>N</td>\n",
       "    </tr>\n",
       "    <tr>\n",
       "      <th>3</th>\n",
       "      <td>-122.300758</td>\n",
       "      <td>47.683047</td>\n",
       "      <td>4</td>\n",
       "      <td>21200</td>\n",
       "      <td>21200</td>\n",
       "      <td>1227970</td>\n",
       "      <td>Matched</td>\n",
       "      <td>Intersection</td>\n",
       "      <td>24661.0</td>\n",
       "      <td>25TH AVE NE AND NE 75TH ST</td>\n",
       "      <td>...</td>\n",
       "      <td>Wet</td>\n",
       "      <td>Dark - Street Lights On</td>\n",
       "      <td>NaN</td>\n",
       "      <td>4160038.0</td>\n",
       "      <td>NaN</td>\n",
       "      <td>28</td>\n",
       "      <td>From opposite direction - one left turn - one ...</td>\n",
       "      <td>0</td>\n",
       "      <td>0</td>\n",
       "      <td>N</td>\n",
       "    </tr>\n",
       "    <tr>\n",
       "      <th>4</th>\n",
       "      <td>-122.313053</td>\n",
       "      <td>47.567241</td>\n",
       "      <td>5</td>\n",
       "      <td>17000</td>\n",
       "      <td>17000</td>\n",
       "      <td>1793348</td>\n",
       "      <td>Unmatched</td>\n",
       "      <td>Block</td>\n",
       "      <td>NaN</td>\n",
       "      <td>S DAKOTA ST BETWEEN 15TH AVE S AND 16TH AVE S</td>\n",
       "      <td>...</td>\n",
       "      <td>NaN</td>\n",
       "      <td>NaN</td>\n",
       "      <td>NaN</td>\n",
       "      <td>4289025.0</td>\n",
       "      <td>NaN</td>\n",
       "      <td>NaN</td>\n",
       "      <td>NaN</td>\n",
       "      <td>0</td>\n",
       "      <td>0</td>\n",
       "      <td>N</td>\n",
       "    </tr>\n",
       "  </tbody>\n",
       "</table>\n",
       "<p>5 rows × 40 columns</p>\n",
       "</div>"
      ],
      "text/plain": [
       "            X          Y  OBJECTID  INCKEY  COLDETKEY REPORTNO     STATUS  \\\n",
       "0 -122.386772  47.564720         1  326234     327734  E984735    Matched   \n",
       "1 -122.341806  47.686934         2  326246     327746  E985430    Matched   \n",
       "2 -122.374899  47.668666         3  329254     330754  EA16720    Matched   \n",
       "3 -122.300758  47.683047         4   21200      21200  1227970    Matched   \n",
       "4 -122.313053  47.567241         5   17000      17000  1793348  Unmatched   \n",
       "\n",
       "       ADDRTYPE   INTKEY                                          LOCATION  \\\n",
       "0  Intersection  31893.0               CALIFORNIA AVE SW AND SW GENESEE ST   \n",
       "1  Intersection  24228.0                         STONE AVE N AND N 80TH ST   \n",
       "2         Block      NaN  NW MARKET ST BETWEEN 14TH AVE NW AND 15TH AVE NW   \n",
       "3  Intersection  24661.0                        25TH AVE NE AND NE 75TH ST   \n",
       "4         Block      NaN     S DAKOTA ST BETWEEN 15TH AVE S AND 16TH AVE S   \n",
       "\n",
       "   ... ROADCOND                LIGHTCOND PEDROWNOTGRNT SDOTCOLNUM SPEEDING  \\\n",
       "0  ...      Dry                 Daylight             Y        NaN      NaN   \n",
       "1  ...      Wet  Dark - Street Lights On           NaN        NaN      NaN   \n",
       "2  ...      Dry                 Daylight           NaN        NaN      NaN   \n",
       "3  ...      Wet  Dark - Street Lights On           NaN  4160038.0      NaN   \n",
       "4  ...      NaN                      NaN           NaN  4289025.0      NaN   \n",
       "\n",
       "   ST_COLCODE                                         ST_COLDESC  SEGLANEKEY  \\\n",
       "0           2               Vehicle turning left hits pedestrian           0   \n",
       "1          10                                  Entering at angle           0   \n",
       "2          11  From same direction - both going straight - bo...           0   \n",
       "3          28  From opposite direction - one left turn - one ...           0   \n",
       "4         NaN                                                NaN           0   \n",
       "\n",
       "   CROSSWALKKEY  HITPARKEDCAR  \n",
       "0             0             N  \n",
       "1             0             N  \n",
       "2             0             N  \n",
       "3             0             N  \n",
       "4             0             N  \n",
       "\n",
       "[5 rows x 40 columns]"
      ]
     },
     "execution_count": 14,
     "metadata": {},
     "output_type": "execute_result"
    }
   ],
   "source": [
    "df = pd.read_csv('collisions.csv')\n",
    "df.head()"
   ]
  },
  {
   "cell_type": "code",
   "execution_count": 11,
   "metadata": {},
   "outputs": [
    {
     "name": "stdout",
     "output_type": "stream",
     "text": [
      "Number of cases: 221266 and number of attributes: 40\n"
     ]
    }
   ],
   "source": [
    "print(\"Number of cases: %d and number of attributes: %d\" %(df.shape[0], df.shape[1]))"
   ]
  },
  {
   "cell_type": "code",
   "execution_count": 13,
   "metadata": {},
   "outputs": [
    {
     "name": "stdout",
     "output_type": "stream",
     "text": [
      "<class 'pandas.core.frame.DataFrame'>\n",
      "RangeIndex: 221266 entries, 0 to 221265\n",
      "Data columns (total 40 columns):\n",
      " #   Column           Non-Null Count   Dtype  \n",
      "---  ------           --------------   -----  \n",
      " 0   X                213797 non-null  float64\n",
      " 1   Y                213797 non-null  float64\n",
      " 2   OBJECTID         221266 non-null  int64  \n",
      " 3   INCKEY           221266 non-null  int64  \n",
      " 4   COLDETKEY        221266 non-null  int64  \n",
      " 5   REPORTNO         221266 non-null  object \n",
      " 6   STATUS           221266 non-null  object \n",
      " 7   ADDRTYPE         217554 non-null  object \n",
      " 8   INTKEY           71823 non-null   float64\n",
      " 9   LOCATION         216680 non-null  object \n",
      " 10  EXCEPTRSNCODE    100863 non-null  object \n",
      " 11  EXCEPTRSNDESC    11775 non-null   object \n",
      " 12  SEVERITYCODE     221265 non-null  object \n",
      " 13  SEVERITYDESC     221266 non-null  object \n",
      " 14  COLLISIONTYPE    194767 non-null  object \n",
      " 15  PERSONCOUNT      221266 non-null  int64  \n",
      " 16  PEDCOUNT         221266 non-null  int64  \n",
      " 17  PEDCYLCOUNT      221266 non-null  int64  \n",
      " 18  VEHCOUNT         221266 non-null  int64  \n",
      " 19  INJURIES         221266 non-null  int64  \n",
      " 20  SERIOUSINJURIES  221266 non-null  int64  \n",
      " 21  FATALITIES       221266 non-null  int64  \n",
      " 22  INCDATE          221266 non-null  object \n",
      " 23  INCDTTM          221266 non-null  object \n",
      " 24  JUNCTIONTYPE     209299 non-null  object \n",
      " 25  SDOT_COLCODE     221265 non-null  float64\n",
      " 26  SDOT_COLDESC     221265 non-null  object \n",
      " 27  INATTENTIONIND   30188 non-null   object \n",
      " 28  UNDERINFL        194787 non-null  object \n",
      " 29  WEATHER          194578 non-null  object \n",
      " 30  ROADCOND         194658 non-null  object \n",
      " 31  LIGHTCOND        194490 non-null  object \n",
      " 32  PEDROWNOTGRNT    5188 non-null    object \n",
      " 33  SDOTCOLNUM       127205 non-null  float64\n",
      " 34  SPEEDING         9913 non-null    object \n",
      " 35  ST_COLCODE       211853 non-null  object \n",
      " 36  ST_COLDESC       194767 non-null  object \n",
      " 37  SEGLANEKEY       221266 non-null  int64  \n",
      " 38  CROSSWALKKEY     221266 non-null  int64  \n",
      " 39  HITPARKEDCAR     221266 non-null  object \n",
      "dtypes: float64(5), int64(12), object(23)\n",
      "memory usage: 67.5+ MB\n"
     ]
    }
   ],
   "source": [
    "#dataset information and dytpe\n",
    "df.info()"
   ]
  },
  {
   "cell_type": "markdown",
   "metadata": {},
   "source": [
    "***"
   ]
  },
  {
   "cell_type": "markdown",
   "metadata": {},
   "source": [
    "### Displaying Dependent Variable"
   ]
  },
  {
   "cell_type": "code",
   "execution_count": 43,
   "metadata": {},
   "outputs": [
    {
     "data": {
      "image/png": "[encoded data removed]",
      "text/plain": [
       "<Figure size 720x576 with 1 Axes>"
      ]
     },
     "metadata": {
      "needs_background": "light"
     },
     "output_type": "display_data"
    }
   ],
   "source": [
    "plt.figure(figsize=(10,8))\n",
    "skw = df.SEVERITYCODE.value_counts().reindex(['0','1','2','2b','3'])\n",
    "skw.plot(kind='bar')\n",
    "plt.xlabel('SEVERITY CODE')\n",
    "plt.ylabel('Number of Cases')\n",
    "plt.title(\"Severity Code vs Number of Cases\");"
   ]
  },
  {
   "cell_type": "markdown",
   "metadata": {},
   "source": [
    "Severity Code: <br>\n",
    "0 - Unknown <br>\n",
    "1 - Prop Damage <br> \n",
    "2 - Injury <br>\n",
    "2b- Serious Injury<br>\n",
    "3 - Fatality <br>\n",
    "\n",
    "This is going to be a **multiclass classification problem**. This code will be change to int data type and replace code of 2b, 3 to become 3, and 4 respectively\n",
    "\n",
    "New Severity Code\n",
    "0 - Minor Prop Damage <br>\n",
    "1 - Prop Damage <br> \n",
    "2 - Injury <br>\n",
    "3- Serious Injury<br>\n",
    "4 - Fatality <br>\n",
    "\n",
    "Also, the dataset negatively skewed (unbalanced).\n",
    "***"
   ]
  },
  {
   "cell_type": "markdown",
   "metadata": {},
   "source": [
    "### Display Attributes Missing Data"
   ]
  },
  {
   "cell_type": "code",
   "execution_count": 15,
   "metadata": {},
   "outputs": [],
   "source": [
    "absent_data = df.isnull().sum(axis=0)/df.shape[0]"
   ]
  },
  {
   "cell_type": "code",
   "execution_count": 19,
   "metadata": {},
   "outputs": [
    {
     "data": {
      "image/png": "[encoded data removed]",
      "text/plain": [
       "<Figure size 720x576 with 1 Axes>"
      ]
     },
     "metadata": {
      "needs_background": "light"
     },
     "output_type": "display_data"
    }
   ],
   "source": [
    "plt.figure(figsize=(10,8))\n",
    "absent_data.plot(kind='bar')\n",
    "plt.ylabel(\"% of missing data\")\n",
    "plt.xlabel(\"Attrtibutes\")\n",
    "plt.title(\"Attributes Missing Data\");"
   ]
  },
  {
   "cell_type": "markdown",
   "metadata": {},
   "source": [
    "Not all attributes is going to be used as independent variables. Non relevant attributes such as **OBJECTID** will be removed as well attributes with high percentage of missing data such as **SPEEDING**.\n",
    "***"
   ]
  },
  {
   "cell_type": "markdown",
   "metadata": {},
   "source": [
    "## 3. Data Preparation"
   ]
  },
  {
   "cell_type": "code",
   "execution_count": null,
   "metadata": {},
   "outputs": [],
   "source": []
  }
 ],
 "metadata": {
  "kernelspec": {
   "display_name": "Python",
   "language": "python",
   "name": "conda-env-python-py"
  },
  "language_info": {
   "codemirror_mode": {
    "name": "ipython",
    "version": 3
   },
   "file_extension": ".py",
   "mimetype": "text/x-python",
   "name": "python",
   "nbconvert_exporter": "python",
   "pygments_lexer": "ipython3",
   "version": "3.6.11"
  }
 },
 "nbformat": 4,
 "nbformat_minor": 4
}
